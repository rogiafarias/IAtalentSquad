{
  "nbformat": 4,
  "nbformat_minor": 0,
  "metadata": {
    "colab": {
      "provenance": [],
      "include_colab_link": true
    },
    "kernelspec": {
      "name": "python3",
      "display_name": "Python 3"
    },
    "language_info": {
      "name": "python"
    },
    "widgets": {
      "application/vnd.jupyter.widget-state+json": {
        "79057db588824a4bb8f4ede6d9e45b36": {
          "model_module": "@jupyter-widgets/controls",
          "model_name": "VBoxModel",
          "model_module_version": "1.5.0",
          "state": {
            "_dom_classes": [],
            "_model_module": "@jupyter-widgets/controls",
            "_model_module_version": "1.5.0",
            "_model_name": "VBoxModel",
            "_view_count": null,
            "_view_module": "@jupyter-widgets/controls",
            "_view_module_version": "1.5.0",
            "_view_name": "VBoxView",
            "box_style": "",
            "children": [
              "IPY_MODEL_6f786636f7af4203a8cc1901c3610399",
              "IPY_MODEL_e5e01d9c0d1842448406d80700a76e8d",
              "IPY_MODEL_ee7a40d83ccd43a4bb0e2438adda8480"
            ],
            "layout": "IPY_MODEL_ee8fe5ccc40d48198d7bd9b7c1497a18"
          }
        },
        "6f786636f7af4203a8cc1901c3610399": {
          "model_module": "@jupyter-widgets/controls",
          "model_name": "TextModel",
          "model_module_version": "1.5.0",
          "state": {
            "_dom_classes": [],
            "_model_module": "@jupyter-widgets/controls",
            "_model_module_version": "1.5.0",
            "_model_name": "TextModel",
            "_view_count": null,
            "_view_module": "@jupyter-widgets/controls",
            "_view_module_version": "1.5.0",
            "_view_name": "TextView",
            "continuous_update": true,
            "description": "",
            "description_tooltip": null,
            "disabled": false,
            "layout": "IPY_MODEL_bb940e37833847b088250e11aa647795",
            "placeholder": "Ex: Qual o valor total vendido?",
            "style": "IPY_MODEL_ff4c5b544dd245ab92966a70613510a8",
            "value": ""
          }
        },
        "e5e01d9c0d1842448406d80700a76e8d": {
          "model_module": "@jupyter-widgets/controls",
          "model_name": "ButtonModel",
          "model_module_version": "1.5.0",
          "state": {
            "_dom_classes": [],
            "_model_module": "@jupyter-widgets/controls",
            "_model_module_version": "1.5.0",
            "_model_name": "ButtonModel",
            "_view_count": null,
            "_view_module": "@jupyter-widgets/controls",
            "_view_module_version": "1.5.0",
            "_view_name": "ButtonView",
            "button_style": "",
            "description": "Analisar",
            "disabled": false,
            "icon": "",
            "layout": "IPY_MODEL_c3336394f43a4ae1b620c5bc58b17cf4",
            "style": "IPY_MODEL_5d32857cc16e4f3d9e3bc32ed6a5b14e",
            "tooltip": ""
          }
        },
        "ee7a40d83ccd43a4bb0e2438adda8480": {
          "model_module": "@jupyter-widgets/output",
          "model_name": "OutputModel",
          "model_module_version": "1.0.0",
          "state": {
            "_dom_classes": [],
            "_model_module": "@jupyter-widgets/output",
            "_model_module_version": "1.0.0",
            "_model_name": "OutputModel",
            "_view_count": null,
            "_view_module": "@jupyter-widgets/output",
            "_view_module_version": "1.0.0",
            "_view_name": "OutputView",
            "layout": "IPY_MODEL_91fdaed5e1f94b2d9e54f20023d96bd2",
            "msg_id": "",
            "outputs": []
          }
        },
        "ee8fe5ccc40d48198d7bd9b7c1497a18": {
          "model_module": "@jupyter-widgets/base",
          "model_name": "LayoutModel",
          "model_module_version": "1.2.0",
          "state": {
            "_model_module": "@jupyter-widgets/base",
            "_model_module_version": "1.2.0",
            "_model_name": "LayoutModel",
            "_view_count": null,
            "_view_module": "@jupyter-widgets/base",
            "_view_module_version": "1.2.0",
            "_view_name": "LayoutView",
            "align_content": null,
            "align_items": null,
            "align_self": null,
            "border": null,
            "bottom": null,
            "display": null,
            "flex": null,
            "flex_flow": null,
            "grid_area": null,
            "grid_auto_columns": null,
            "grid_auto_flow": null,
            "grid_auto_rows": null,
            "grid_column": null,
            "grid_gap": null,
            "grid_row": null,
            "grid_template_areas": null,
            "grid_template_columns": null,
            "grid_template_rows": null,
            "height": null,
            "justify_content": null,
            "justify_items": null,
            "left": null,
            "margin": null,
            "max_height": null,
            "max_width": null,
            "min_height": null,
            "min_width": null,
            "object_fit": null,
            "object_position": null,
            "order": null,
            "overflow": null,
            "overflow_x": null,
            "overflow_y": null,
            "padding": null,
            "right": null,
            "top": null,
            "visibility": null,
            "width": null
          }
        },
        "bb940e37833847b088250e11aa647795": {
          "model_module": "@jupyter-widgets/base",
          "model_name": "LayoutModel",
          "model_module_version": "1.2.0",
          "state": {
            "_model_module": "@jupyter-widgets/base",
            "_model_module_version": "1.2.0",
            "_model_name": "LayoutModel",
            "_view_count": null,
            "_view_module": "@jupyter-widgets/base",
            "_view_module_version": "1.2.0",
            "_view_name": "LayoutView",
            "align_content": null,
            "align_items": null,
            "align_self": null,
            "border": null,
            "bottom": null,
            "display": null,
            "flex": null,
            "flex_flow": null,
            "grid_area": null,
            "grid_auto_columns": null,
            "grid_auto_flow": null,
            "grid_auto_rows": null,
            "grid_column": null,
            "grid_gap": null,
            "grid_row": null,
            "grid_template_areas": null,
            "grid_template_columns": null,
            "grid_template_rows": null,
            "height": null,
            "justify_content": null,
            "justify_items": null,
            "left": null,
            "margin": null,
            "max_height": null,
            "max_width": null,
            "min_height": null,
            "min_width": null,
            "object_fit": null,
            "object_position": null,
            "order": null,
            "overflow": null,
            "overflow_x": null,
            "overflow_y": null,
            "padding": null,
            "right": null,
            "top": null,
            "visibility": null,
            "width": null
          }
        },
        "ff4c5b544dd245ab92966a70613510a8": {
          "model_module": "@jupyter-widgets/controls",
          "model_name": "DescriptionStyleModel",
          "model_module_version": "1.5.0",
          "state": {
            "_model_module": "@jupyter-widgets/controls",
            "_model_module_version": "1.5.0",
            "_model_name": "DescriptionStyleModel",
            "_view_count": null,
            "_view_module": "@jupyter-widgets/base",
            "_view_module_version": "1.2.0",
            "_view_name": "StyleView",
            "description_width": ""
          }
        },
        "c3336394f43a4ae1b620c5bc58b17cf4": {
          "model_module": "@jupyter-widgets/base",
          "model_name": "LayoutModel",
          "model_module_version": "1.2.0",
          "state": {
            "_model_module": "@jupyter-widgets/base",
            "_model_module_version": "1.2.0",
            "_model_name": "LayoutModel",
            "_view_count": null,
            "_view_module": "@jupyter-widgets/base",
            "_view_module_version": "1.2.0",
            "_view_name": "LayoutView",
            "align_content": null,
            "align_items": null,
            "align_self": null,
            "border": null,
            "bottom": null,
            "display": null,
            "flex": null,
            "flex_flow": null,
            "grid_area": null,
            "grid_auto_columns": null,
            "grid_auto_flow": null,
            "grid_auto_rows": null,
            "grid_column": null,
            "grid_gap": null,
            "grid_row": null,
            "grid_template_areas": null,
            "grid_template_columns": null,
            "grid_template_rows": null,
            "height": null,
            "justify_content": null,
            "justify_items": null,
            "left": null,
            "margin": null,
            "max_height": null,
            "max_width": null,
            "min_height": null,
            "min_width": null,
            "object_fit": null,
            "object_position": null,
            "order": null,
            "overflow": null,
            "overflow_x": null,
            "overflow_y": null,
            "padding": null,
            "right": null,
            "top": null,
            "visibility": null,
            "width": null
          }
        },
        "5d32857cc16e4f3d9e3bc32ed6a5b14e": {
          "model_module": "@jupyter-widgets/controls",
          "model_name": "ButtonStyleModel",
          "model_module_version": "1.5.0",
          "state": {
            "_model_module": "@jupyter-widgets/controls",
            "_model_module_version": "1.5.0",
            "_model_name": "ButtonStyleModel",
            "_view_count": null,
            "_view_module": "@jupyter-widgets/base",
            "_view_module_version": "1.2.0",
            "_view_name": "StyleView",
            "button_color": null,
            "font_weight": ""
          }
        },
        "91fdaed5e1f94b2d9e54f20023d96bd2": {
          "model_module": "@jupyter-widgets/base",
          "model_name": "LayoutModel",
          "model_module_version": "1.2.0",
          "state": {
            "_model_module": "@jupyter-widgets/base",
            "_model_module_version": "1.2.0",
            "_model_name": "LayoutModel",
            "_view_count": null,
            "_view_module": "@jupyter-widgets/base",
            "_view_module_version": "1.2.0",
            "_view_name": "LayoutView",
            "align_content": null,
            "align_items": null,
            "align_self": null,
            "border": null,
            "bottom": null,
            "display": null,
            "flex": null,
            "flex_flow": null,
            "grid_area": null,
            "grid_auto_columns": null,
            "grid_auto_flow": null,
            "grid_auto_rows": null,
            "grid_column": null,
            "grid_gap": null,
            "grid_row": null,
            "grid_template_areas": null,
            "grid_template_columns": null,
            "grid_template_rows": null,
            "height": null,
            "justify_content": null,
            "justify_items": null,
            "left": null,
            "margin": null,
            "max_height": null,
            "max_width": null,
            "min_height": null,
            "min_width": null,
            "object_fit": null,
            "object_position": null,
            "order": null,
            "overflow": null,
            "overflow_x": null,
            "overflow_y": null,
            "padding": null,
            "right": null,
            "top": null,
            "visibility": null,
            "width": null
          }
        }
      }
    }
  },
  "cells": [
    {
      "cell_type": "markdown",
      "metadata": {
        "id": "view-in-github",
        "colab_type": "text"
      },
      "source": [
        "<a href=\"https://colab.research.google.com/github/rogiafarias/IAtalentSquad/blob/main/Projeto_IA_TalentSquad_junho2025.ipynb\" target=\"_parent\"><img src=\"https://colab.research.google.com/assets/colab-badge.svg\" alt=\"Open In Colab\"/></a>"
      ]
    },
    {
      "cell_type": "markdown",
      "source": [
        "# IA Talent Squad - Ferramenta de análise de documentos fiscais\n",
        "\n",
        "\n",
        "\n",
        "\n",
        "\n",
        "\n"
      ],
      "metadata": {
        "id": "_BfS-CCX75Z5"
      }
    },
    {
      "cell_type": "markdown",
      "source": [
        "# Etapa 1 Instalação de Dependências e Importações"
      ],
      "metadata": {
        "id": "SA4NL20H19zV"
      }
    },
    {
      "cell_type": "code",
      "execution_count": 5,
      "metadata": {
        "id": "bq4B9w-CBpet",
        "colab": {
          "base_uri": "https://localhost:8080/"
        },
        "outputId": "c123d2ed-2409-48cb-8078-9242007e3ec7"
      },
      "outputs": [
        {
          "output_type": "stream",
          "name": "stdout",
          "text": [
            "Requirement already satisfied: ag2 in /usr/local/lib/python3.11/dist-packages (0.9.0)\n",
            "Requirement already satisfied: anyio<5.0.0,>=3.0.0 in /usr/local/lib/python3.11/dist-packages (from ag2) (4.9.0)\n",
            "Requirement already satisfied: asyncer==0.0.8 in /usr/local/lib/python3.11/dist-packages (from ag2) (0.0.8)\n",
            "Requirement already satisfied: diskcache in /usr/local/lib/python3.11/dist-packages (from ag2) (5.6.3)\n",
            "Requirement already satisfied: docker in /usr/local/lib/python3.11/dist-packages (from ag2) (7.1.0)\n",
            "Requirement already satisfied: httpx<1,>=0.28.1 in /usr/local/lib/python3.11/dist-packages (from ag2) (0.28.1)\n",
            "Requirement already satisfied: packaging in /usr/local/lib/python3.11/dist-packages (from ag2) (24.2)\n",
            "Requirement already satisfied: pydantic<3,>=2.6.1 in /usr/local/lib/python3.11/dist-packages (from ag2) (2.11.7)\n",
            "Requirement already satisfied: python-dotenv in /usr/local/lib/python3.11/dist-packages (from ag2) (1.1.1)\n",
            "Requirement already satisfied: termcolor in /usr/local/lib/python3.11/dist-packages (from ag2) (3.1.0)\n",
            "Requirement already satisfied: tiktoken in /usr/local/lib/python3.11/dist-packages (from ag2) (0.9.0)\n",
            "Requirement already satisfied: idna>=2.8 in /usr/local/lib/python3.11/dist-packages (from anyio<5.0.0,>=3.0.0->ag2) (3.10)\n",
            "Requirement already satisfied: sniffio>=1.1 in /usr/local/lib/python3.11/dist-packages (from anyio<5.0.0,>=3.0.0->ag2) (1.3.1)\n",
            "Requirement already satisfied: typing_extensions>=4.5 in /usr/local/lib/python3.11/dist-packages (from anyio<5.0.0,>=3.0.0->ag2) (4.14.0)\n",
            "Requirement already satisfied: certifi in /usr/local/lib/python3.11/dist-packages (from httpx<1,>=0.28.1->ag2) (2025.6.15)\n",
            "Requirement already satisfied: httpcore==1.* in /usr/local/lib/python3.11/dist-packages (from httpx<1,>=0.28.1->ag2) (1.0.9)\n",
            "Requirement already satisfied: h11>=0.16 in /usr/local/lib/python3.11/dist-packages (from httpcore==1.*->httpx<1,>=0.28.1->ag2) (0.16.0)\n",
            "Requirement already satisfied: annotated-types>=0.6.0 in /usr/local/lib/python3.11/dist-packages (from pydantic<3,>=2.6.1->ag2) (0.7.0)\n",
            "Requirement already satisfied: pydantic-core==2.33.2 in /usr/local/lib/python3.11/dist-packages (from pydantic<3,>=2.6.1->ag2) (2.33.2)\n",
            "Requirement already satisfied: typing-inspection>=0.4.0 in /usr/local/lib/python3.11/dist-packages (from pydantic<3,>=2.6.1->ag2) (0.4.1)\n",
            "Requirement already satisfied: requests>=2.26.0 in /usr/local/lib/python3.11/dist-packages (from docker->ag2) (2.32.3)\n",
            "Requirement already satisfied: urllib3>=1.26.0 in /usr/local/lib/python3.11/dist-packages (from docker->ag2) (2.4.0)\n",
            "Requirement already satisfied: regex>=2022.1.18 in /usr/local/lib/python3.11/dist-packages (from tiktoken->ag2) (2024.11.6)\n",
            "Requirement already satisfied: charset-normalizer<4,>=2 in /usr/local/lib/python3.11/dist-packages (from requests>=2.26.0->docker->ag2) (3.4.2)\n"
          ]
        }
      ],
      "source": [
        "pip install ag2"
      ]
    },
    {
      "cell_type": "markdown",
      "source": [
        "# Etapa 2: Importações e Configuração Inicial"
      ],
      "metadata": {
        "id": "95vnoRj58m6L"
      }
    },
    {
      "cell_type": "code",
      "source": [
        "\n",
        "import os\n",
        "import zipfile\n",
        "import requests\n",
        "import pandas as pd\n",
        "from autogen import AssistantAgent, UserProxyAgent\n",
        "from IPython.display import display, Markdown\n",
        "import ipywidgets as widgets\n",
        "from google.colab import userdata\n",
        "import traceback"
      ],
      "metadata": {
        "id": "QFav7YK1B5p5",
        "collapsed": true
      },
      "execution_count": 6,
      "outputs": []
    },
    {
      "cell_type": "markdown",
      "source": [
        "# --- CONFIGURAÇÃO ---\n"
      ],
      "metadata": {
        "id": "1FYIQcHk9OyQ"
      }
    },
    {
      "cell_type": "code",
      "source": [
        "# Configurar variáveis de ambiente\n",
        "ENDPOINT_API = \"https://generativelanguage.googleapis.com/v1beta/models/gemini-2.0-flash:generateText?key=\"\n",
        "GOOGLE_API_KEY = userdata.get('GOOGLE_API_KEY')"
      ],
      "metadata": {
        "id": "uoQ7B1gOdwqk"
      },
      "execution_count": 7,
      "outputs": []
    },
    {
      "cell_type": "markdown",
      "source": [
        "# Etapa 3: Função Otimizada para Preparação dos Dados"
      ],
      "metadata": {
        "id": "P4iHdU8a-gka"
      }
    },
    {
      "cell_type": "code",
      "source": [
        "import pandas as pd\n",
        "# ✅ Carregar dados diretamente da pasta extraída\n",
        "cabecalho = pd.read_csv('/content/202401_NFs_Cabecalho.csv')\n",
        "itens = pd.read_csv('/content/202401_NFs_Itens.csv')\n",
        "\n",
        "cabecalho_df = cabecalho\n",
        "itens_df = itens"
      ],
      "metadata": {
        "id": "2MrHORCH-jJS"
      },
      "execution_count": 8,
      "outputs": []
    },
    {
      "cell_type": "markdown",
      "source": [
        "# Etapa 4: Configuração do Agente AutoGen\n",
        "\n"
      ],
      "metadata": {
        "id": "d3KcwwFk2XZj"
      }
    },
    {
      "cell_type": "code",
      "source": [
        "#O contexto (schema dos dados) é passado na mensagem de sistema para o agente \"nascer\"\n",
        "import os\n",
        "import autogen\n",
        "from autogen import AssistantAgent, UserProxyAgent\n",
        "import pandas as pd\n",
        "CONTEXTO_SISTEMA = f\"\"\"\n",
        "Você é um analista de dados especialista em notas fiscais, preciso e direto.\n",
        "Sua tarefa é responder às perguntas do usuário usando os DataFrames do Pandas fornecid\n",
        "Os DataFrames disponíveis são `cabecalho_df` e `itens_df`.\n",
        "Schema do `cabecalho_df`: {list(cabecalho_df.columns)}\n",
        "Schema do `itens_df`: {list(itens_df.columns)}\n",
        "Para responder, você deve:\n",
        "1. Analisar a pergunta do usuário.\n",
        "2. Gerar e executar o código Python necessário para encontrar a resposta.\n",
        "3. Apresentar a resposta final em linguagem natural, de forma clara e objetiva.\n",
        "3. Apresentar a resposta final em linguagem natural, de forma clara e objetiva.\n",
        "4. Não mostre o código Python na sua resposta final, apenas o resultado.\n",
        "\"\"\"\n",
        "#O contexto (schema dos dados) é passado na mensagem de sistema para o agente \"nascer\"\n",
        "import os\n",
        "import autogen\n",
        "from autogen import AssistantAgent, UserProxyAgent\n",
        "import pandas as pd\n",
        "CONTEXTO_SISTEMA = f\"\"\"\n",
        "Você é um analista de dados especialista em notas fiscais, preciso e direto.\n",
        "Sua tarefa é responder às perguntas do usuário usando os DataFrames do Pandas fornecid\n",
        "Os DataFrames disponíveis são `cabecalho_df` e `itens_df`.\n",
        "Schema do `cabecalho_df`: {list(cabecalho_df.columns)}\n",
        "Schema do `itens_df`: {list(itens_df.columns)}\n",
        "Para responder, você deve:\n",
        "1. Analisar a pergunta do usuário.\n",
        "2. Gerar e executar o código Python necessário para encontrar a resposta.\n",
        "3. Apresentar a resposta final em linguagem natural, de forma clara e objetiva.\n",
        "4. Não mostre o código Python na sua resposta final, apenas o resultado.\n",
        "\"\"\""
      ],
      "metadata": {
        "id": "rklJVAJRKVBL"
      },
      "execution_count": 9,
      "outputs": []
    },
    {
      "cell_type": "markdown",
      "source": [
        "# Etapa 5: Interface Comunicacional"
      ],
      "metadata": {
        "id": "kX4TJ0b0Af2f"
      }
    },
    {
      "cell_type": "code",
      "source": [
        "# Widgets para interface\n",
        "pergunta_input = widgets.Text(placeholder=\"Ex: Qual o valor total vendido?\")\n",
        "botao_enviar = widgets.Button(description=\"Analisar\")\n",
        "saida = widgets.Output()\n",
        "def execute_code(code, local_vars=None):\n",
        "    \"\"\"\n",
        "    Executa código Python de forma segura e captura erros.\n",
        "    \"\"\"\n",
        "    if local_vars is None:\n",
        "        local_vars = {}\n",
        "    try:\n",
        "        exec(code, globals(), local_vars) # Execute no escopo local\n",
        "        return local_vars.get('result', None), None # Retorna 'result' se existir\n",
        "    except Exception as e:\n",
        "        return None, traceback.format_exc() # Retorna None e o traceback do erro\n",
        "\n",
        "def on_button_click(b):\n",
        "    \"\"\"\n",
        "    Função chamada quando o botão é clicado.\n",
        "    Limpa a saída anterior, inicia o chat com o agente e exibe a resposta final.\n",
        "    \"\"\"\n",
        "    pergunta = pergunta_input.value\n",
        "    if not pergunta:\n",
        "        with saida:\n",
        "            saida.clear_output()\n",
        "            print(\"Por favor, digite uma pergunta.\")\n",
        "        return\n",
        "\n",
        "    with saida:\n",
        "        saida.clear_output()\n",
        "        print(f\"Processando a pergunta: '{pergunta}'...\")\n",
        "\n",
        "        # Inicia o chat. O prompt é mais completo, incluindo informações dos DataFrame\n",
        "        prompt = f\"\"\"\n",
        "        Dados disponíveis:\n",
        "        1. cabecalho_df: {cabecalho_df.head(2).to_dict()}\n",
        "        2. itens_df: {itens_df.head(2).to_dict()}\n",
        "\n",
        "        Pergunta do usuário: {pergunta}\n",
        "\n",
        "        Instruções:\n",
        "        1. Analise os dataframes 'cabecalho_df' e 'itens_df'.\n",
        "        2. Gere código Python para responder à pergunta do usuário. O resultado deve ser atribuído a uma variável chamada 'result'.\n",
        "        3. Use apenas as informações fornecidas e pandas para manipulação dos dados.\n",
        "        4. Execute o código Python gerado.\n",
        "        5. Retorne a resposta formatada em português, incluindo o valor da variável 'result'.\n",
        "        6. Inclua a pergunta original na resposta.\n",
        "        7. Se não for possível responder com os dados, explique o motivo.\n",
        "        \"\"\"\n",
        "\n",
        "        user_proxy.initiate_chat(\n",
        "            assistant,\n",
        "            message=prompt\n",
        "        )\n",
        "\n",
        "        # Captura a resposta final de forma robusta, pegando a última mensagem da conversa\n",
        "        resposta_completa = user_proxy.last_message().get(\"content\", \"Não foi possível obter a resposta completa.\")\n",
        "\n",
        "        try:\n",
        "            # Tenta extrair o código Python da resposta\n",
        "            # Assumindo que o LLM envolve o código em ```python ... ```\n",
        "            codigo_inicio = resposta_completa.find(\"```python\") + len(\"```python\\n\")\n",
        "            codigo_fim = resposta_completa.find(\"```\", codigo_inicio)\n",
        "            codigo = resposta_completa[codigo_inicio:codigo_fim].strip()\n",
        "\n",
        "            # Executa o código extraído\n",
        "            if codigo:\n",
        "                result, erro = execute_code(codigo, local_vars={'cabecalho_df': cabecalho_df, 'itens_df': itens_df})\n",
        "                if erro:\n",
        "                    resposta_final = f\"Ocorreu um erro ao executar o código: {erro}\"\n",
        "                else:\n",
        "                    resposta_final = f\"Resultado da análise: {result}\" if result is not None else \"Não foi possível determinar o resultado da análise.\"\n",
        "            else:\n",
        "                resposta_final = \"Não foi possível extrair o código Python da resposta do agente.\"\n",
        "\n",
        "        except Exception as e:\n",
        "            resposta_final = f\"Ocorreu um erro ao processar a resposta: {traceback.format_exc()}\"\n",
        "\n",
        "        # Exibe a resposta formatada em Markdown\n",
        "        display(Markdown(f\"### ✨ Análise Solicitada\\n**Pergunta:** {pergunta}\\n\\n**Resposta:** {resposta_final}\"))\n",
        "\n",
        "# Associa a função ao evento de clique do botão\n",
        "botao_enviar.on_click(on_button_click)\n",
        "\n",
        "# Exibe a interface final\n",
        "print(\"Interface pronta. Qual sua pergunta ao IA Talent Squad?.\")\n",
        "display(widgets.VBox([pergunta_input, botao_enviar, saida]))"
      ],
      "metadata": {
        "colab": {
          "base_uri": "https://localhost:8080/",
          "height": 98,
          "referenced_widgets": [
            "79057db588824a4bb8f4ede6d9e45b36",
            "6f786636f7af4203a8cc1901c3610399",
            "e5e01d9c0d1842448406d80700a76e8d",
            "ee7a40d83ccd43a4bb0e2438adda8480",
            "ee8fe5ccc40d48198d7bd9b7c1497a18",
            "bb940e37833847b088250e11aa647795",
            "ff4c5b544dd245ab92966a70613510a8",
            "c3336394f43a4ae1b620c5bc58b17cf4",
            "5d32857cc16e4f3d9e3bc32ed6a5b14e",
            "91fdaed5e1f94b2d9e54f20023d96bd2"
          ]
        },
        "id": "CMrDkQhjWJiA",
        "outputId": "737fe16a-e388-4423-9abb-c83abdc9ed87"
      },
      "execution_count": 10,
      "outputs": [
        {
          "output_type": "stream",
          "name": "stdout",
          "text": [
            "Interface pronta. Qual sua pergunta ao IA Talent Squad?.\n"
          ]
        },
        {
          "output_type": "display_data",
          "data": {
            "text/plain": [
              "VBox(children=(Text(value='', placeholder='Ex: Qual o valor total vendido?'), Button(description='Analisar', s…"
            ],
            "application/vnd.jupyter.widget-view+json": {
              "version_major": 2,
              "version_minor": 0,
              "model_id": "79057db588824a4bb8f4ede6d9e45b36"
            }
          },
          "metadata": {}
        }
      ]
    }
  ]
}